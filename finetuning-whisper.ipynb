{
 "cells": [
  {
   "cell_type": "code",
   "execution_count": null,
   "id": "0a3142f6",
   "metadata": {},
   "outputs": [],
   "source": [
    "!pip install transformers datasets torchaudio evaluate accelerate\n"
   ]
  },
  {
   "cell_type": "code",
   "execution_count": null,
   "id": "e9be62f5",
   "metadata": {},
   "outputs": [],
   "source": [
    "from datasets import load_dataset, Audio\n",
    "\n",
    "#load dataset in Huggingface foamet\n",
    "dataset = load_dataset(\"csv\", data_files=[\"train\"])"
   ]
  }
 ],
 "metadata": {
  "kernelspec": {
   "display_name": "Python 3",
   "language": "python",
   "name": "python3"
  },
  "language_info": {
   "codemirror_mode": {
    "name": "ipython",
    "version": 3
   },
   "file_extension": ".py",
   "mimetype": "text/x-python",
   "name": "python",
   "nbconvert_exporter": "python",
   "pygments_lexer": "ipython3",
   "version": "3.12.1"
  }
 },
 "nbformat": 4,
 "nbformat_minor": 5
}
